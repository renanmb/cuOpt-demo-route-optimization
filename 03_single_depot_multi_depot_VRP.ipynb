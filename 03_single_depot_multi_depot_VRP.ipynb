{
 "cells": [
  {
   "cell_type": "markdown",
   "id": "8355b74d",
   "metadata": {},
   "source": [
    "## Learning Objectives:\n",
    "\n",
    "- Modeling of a Single Depot capacitated vehicle routing problem with time windows (CVRPTW) \n",
    "- Introduction to more advanced real world constraints like mixed fleet vehicles"
   ]
  },
  {
   "cell_type": "markdown",
   "id": "2bc1cfe1",
   "metadata": {},
   "source": [
    "### Problem Statement\n",
    "\n",
    "**The company is now dealing with the following problem:**\n",
    "- 91 locations to deliver:\n",
    "    - 1 Depot (Distribution Center)\n",
    "    - 90 Orders\n",
    "    - Each location has a specific time window within which services/deliveries need to be performed\n",
    "    - Demand for orders may differ across locations\n",
    "- 10 Vehicles in the Fleet\n",
    "    - Each vehicle has associated capacities\n",
    "    - Each vehicle has a time window of its availability"
   ]
  },
  {
   "cell_type": "code",
   "execution_count": null,
   "id": "ac05d31b",
   "metadata": {},
   "outputs": [],
   "source": [
    "# DO NOT CHANGE THIS CELL\n",
    "# import dependencies\n",
    "\n",
    "import cudf\n",
    "import cupy\n",
    "import pandas as pd\n",
    "import numpy as np\n",
    "\n",
    "from scipy.spatial import distance\n",
    "from cuopt.routing import utils\n",
    "from cuopt import routing\n",
    "\n",
    "import helper_function.helper_map as helper_map\n",
    "from helper_function.helper_data import parse_output_summary, prepare_data_for_maps\n",
    "from helper_function.data_etl import get_minutes_from_datetime, build_distance_matrix, build_distance_matrix_osrm, build_time_matrix, plot_order_locations\n",
    "from helper_function.map_util import get_route, get_map, get_all_routes, get_map_by_vehicle"
   ]
  },
  {
   "cell_type": "markdown",
   "id": "c34c7960",
   "metadata": {},
   "source": [
    "## Prepare Data"
   ]
  },
  {
   "cell_type": "markdown",
   "id": "587c5887",
   "metadata": {},
   "source": [
    "##### cuOpt usage conventions:\n",
    "1. If there are <mark>n</mark> depots in the use case, you need to add them as top <mark>n</mark> rows in dataframe with <mark>service_time</mark>= 0. cuOpt considers that the vehicles first visit the depot (in this case NV Wholesale) to pick up the orders prior to delivering it to any of the customers (in this case NV Marts).\n",
    "\n",
    "\n",
    "2. Vehicles are assumed to be starting from the depot in this notebook, however, the vehicle locations can be specified to the cuOPT solver (as latitudes and longitudes) if the vehicles were to start from different locations"
   ]
  },
  {
   "cell_type": "code",
   "execution_count": null,
   "id": "4ac32c9e",
   "metadata": {},
   "outputs": [],
   "source": [
    "# DO NOT CHANGE THIS CELL\n",
    "\n",
    "DATA_PATH = \"../data/\"\n",
    "\n",
    "# load data\n",
    "\n",
    "orders_details = pd.read_csv(DATA_PATH+\"orders_single_depot.csv\")\n",
    "depot_df = pd.read_csv(DATA_PATH+\"single_depot_location.csv\")\n",
    "\n",
    "# ADD COMMENT HERE\n",
    "orders_details = pd.concat([depot_df, orders_details]).reset_index(drop=True)\n",
    "\n",
    "# 90 orders + 1 depot = 91 \n",
    "orders_details = orders_details[:91]\n",
    "\n",
    "orders_details.head()"
   ]
  },
  {
   "cell_type": "code",
   "execution_count": null,
   "id": "14018d97",
   "metadata": {},
   "outputs": [],
   "source": [
    "# DO NOT CHANGE THIS CELL\n",
    "# Creating a 2-dimensional matrix from the columns \"lat\" and \"lng\" columns\n",
    "\n",
    "location_coordinates = orders_details[['lat', 'lng']]\n",
    "# Output looks like [[32.7727664105, -96.5800824456], [29.6832825242, -95.7305722105]............]\n",
    "\n",
    "\n",
    "# Units of products to be delivered at each location, this can be number of orders, weight or volume.\n",
    "orders = orders_details['order_wt']\n",
    "# 'orders' looks like [1020, 1989.......................2974]"
   ]
  },
  {
   "cell_type": "markdown",
   "id": "73385d5e",
   "metadata": {},
   "source": [
    "### Prepare Time Windows\n",
    "\n",
    "The order must be delivered to the customers in specific time windows, these time windows must be provided to the solver as minutes from midnight as start and end times. \n",
    "\n",
    "For example a start time of 8:00am would be provided as 60x8 = 480 minutes, similarly an end time of 5:00pm would be 60x17 = 1020 minutes"
   ]
  },
  {
   "cell_type": "code",
   "execution_count": null,
   "id": "ef41ed7a",
   "metadata": {},
   "outputs": [],
   "source": [
    "# DO NOT CHANGE THIS CELL\n",
    "\n",
    "#Converting the delivery start and end times to minutes\n",
    "orders_details['delivery_start_in_minutes'] = orders_details['delivery_start'].apply(get_minutes_from_datetime)\n",
    "orders_details['delivery_end_in_minutes'] = orders_details['delivery_end'].apply(get_minutes_from_datetime)\n",
    "\n",
    "# Earliest a delivery can be made\n",
    "order_tw_earliest = orders_details['delivery_start_in_minutes']\n",
    "# Latest a delivery can be made\n",
    "order_tw_latest = orders_details['delivery_end_in_minutes']\n",
    "\n",
    "# Service time required for the delivery/service\n",
    "service_time = orders_details['service_time']"
   ]
  },
  {
   "cell_type": "markdown",
   "id": "582be6cf",
   "metadata": {},
   "source": [
    "### Heterogenous Fleet Routing"
   ]
  },
  {
   "cell_type": "markdown",
   "id": "e8cd2ee6",
   "metadata": {},
   "source": [
    "In scenarios such as food delivery, the delivery fleet may consist of various types of vehicles, for example bikes, and cars, and each type of vehicle has own advantages and limitations. For example, in crowded streets of NYC, it might be faster to reach a nearby destination on bike compared to car, while it is much faster with car in suburban areas. Service providers can improve customer satisfaction, reduce costs, and increase earning opportunity for drivers, using various types of vehicles depending on the geographical location of the service area.\n",
    "\n",
    "Logistics industry is moving towards sustinability. Reducing carbon footprint to deliver orders and still maintain supply chain efficiency has become a prominent challenge. Some companies like [Amazon](https://www.aboutamazon.com/news/transportation/amazons-electric-delivery-vehicles-from-rivian-roll-out-across-the-u-s) and [Walmart](https://www.caranddriver.com/news/a40587886/walmart-canoo-ev-delivery-trucks-purchase/) have started adopting EV trucks for delivery."
   ]
  },
  {
   "cell_type": "markdown",
   "id": "0fd4bdd3",
   "metadata": {},
   "source": [
    "Similarly vehicle start and end times can be modeled as follows:"
   ]
  },
  {
   "cell_type": "code",
   "execution_count": null,
   "id": "af35274a",
   "metadata": {
    "scrolled": true
   },
   "outputs": [],
   "source": [
    "# DO NOT CHANGE THIS CELL\n",
    "\n",
    "#Similarly, converting the vehicle start and end times to minutes\n",
    "vehicle_df = pd.read_csv(DATA_PATH+\"vehicles_single_depot.csv\")\n",
    "vehicle_df['vehicle_start_in_minutes'] = vehicle_df['vehicle_start'].apply(get_minutes_from_datetime)\n",
    "vehicle_df['vehicle_end_in_minutes'] = vehicle_df['vehicle_end'].apply(get_minutes_from_datetime)\n",
    "vehicle_df['vehicle_type_codes'] = vehicle_df['vehicle_type'].astype('category').cat.codes\n",
    "vehicle_df.head()"
   ]
  },
  {
   "cell_type": "code",
   "execution_count": null,
   "id": "e2d653dc",
   "metadata": {},
   "outputs": [],
   "source": [
    "# DO NOT CHANGE THIS CELL\n",
    "\n",
    "n_locations = len(location_coordinates)\n",
    "n_vehicles = len(vehicle_df)\n",
    "n_orders = len(orders_details)\n",
    "n_depot = 1\n",
    "\n",
    "# Number of orders each vehicle can carry, this can be number of orders, weight or volumne\n",
    "vehicle_capacity = vehicle_df['vehicle_capacity']\n",
    "\n",
    "# Earliest a vehicle can start \n",
    "v_tw_earliest = vehicle_df['vehicle_start_in_minutes']\n",
    "\n",
    "# Latest a vehicle will be working\n",
    "v_tw_latest = vehicle_df['vehicle_end_in_minutes']\n",
    "\n",
    "# Used to identify different vehicle\n",
    "vehicle_colors = [\"blue\", \"white\", \"green\", \"pink\", \"yellow\"]"
   ]
  },
  {
   "cell_type": "markdown",
   "id": "147e5e53",
   "metadata": {},
   "source": [
    "### Visualize Depot and Destinations"
   ]
  },
  {
   "cell_type": "markdown",
   "id": "1ceef22c",
   "metadata": {},
   "source": [
    "This is an interactive map based on <mark>folium</mark> python mapping library, following is the color scheme used for the map."
   ]
  },
  {
   "cell_type": "markdown",
   "id": "46326f2b",
   "metadata": {},
   "source": [
    "Depot: 🔴\n",
    " <br />Restaurant: 🟢\n",
    " <br />Retailer: 🔵\n",
    " <br />Business:  🟠"
   ]
  },
  {
   "cell_type": "code",
   "execution_count": null,
   "id": "dd3462d0",
   "metadata": {
    "scrolled": true
   },
   "outputs": [],
   "source": [
    "# DO NOT CHANGE THIS CELL\n",
    "\n",
    "plot_order_locations(orders_details, location_coordinates)"
   ]
  },
  {
   "cell_type": "markdown",
   "id": "3310b9c7",
   "metadata": {},
   "source": [
    "The **cost matrix** models the cost between each pair of locations.  It is used by NVIDIA cuOpt to compute the cost of traveling from any location to any other.  Here we are going to specify that distance traveled is the cost we are looking to minimize. \n",
    "\n",
    "Let's create a distance based cost matrix (called `distance_matrix`)from the location coordinates dataframe, and let the distance between locations be measured by a `euclidean` metric. This will result in a symmetric distance matrix [ distance(A, B) == distance(B, A) ] which is an ideal case. However, in general NVIDIA cuOpt also supports asymmetric matrices which is especially useful when dealing with real-world problems.\n",
    "\n",
    "In practical applications, you can integrate the distance matrix to a third-party map data provider like Google Maps to get live traffic data and run dynamic/real-time re-routing using <mark>cuOpt</mark>."
   ]
  },
  {
   "cell_type": "code",
   "execution_count": null,
   "id": "0a5953d0",
   "metadata": {},
   "outputs": [],
   "source": [
    "# DO NOT CHANGE THIS CELL\n",
    "\n",
    "distance_matrix = build_distance_matrix(orders_details)\n",
    "time_matrix_truck = build_time_matrix(orders_details)\n",
    "time_matrix_ev = build_time_matrix(orders_details, avg_vehicle_speed = 55)"
   ]
  },
  {
   "cell_type": "markdown",
   "id": "18aa0d83",
   "metadata": {},
   "source": [
    "**Note:** The three functions we have used so far <mark>get_minutes_from_datetime, build_distance_matrix, build_time_matrix</mark> have been curated for this notebook to help us learn quickly, they are not part of the cuOpt SDK."
   ]
  },
  {
   "cell_type": "markdown",
   "id": "4ae94a42",
   "metadata": {},
   "source": [
    "To compute asymmetric distance matrices we use [OSRM](http://project-osrm.org/docs/v5.22.0/api/?language=Python#general-options)\n",
    "\n",
    "Note: Please uncomment the cell below to test out the solution with the asymmetric matrix."
   ]
  },
  {
   "cell_type": "code",
   "execution_count": null,
   "id": "0c9dde24",
   "metadata": {},
   "outputs": [],
   "source": [
    "# DO NOT CHANGE THIS CELL\n",
    "\n",
    "# distance_matrix = build_distance_matrix_osrm(orders_details)\n",
    "# distance_matrix"
   ]
  },
  {
   "cell_type": "code",
   "execution_count": null,
   "id": "1c0dc485",
   "metadata": {},
   "outputs": [],
   "source": [
    "# DO NOT CHANGE THIS CELL\n",
    "# convert all data into cuDF dataframes\n",
    "\n",
    "distance_matrix = cudf.DataFrame(distance_matrix)\n",
    "time_matrix_truck = cudf.DataFrame(time_matrix_truck)\n",
    "time_matrix_ev = cudf.DataFrame(time_matrix_ev)"
   ]
  },
  {
   "cell_type": "markdown",
   "id": "f3cc8c81",
   "metadata": {},
   "source": [
    "## Fleet Data\n",
    "\n",
    "Setup mixed fleet data"
   ]
  },
  {
   "cell_type": "code",
   "execution_count": null,
   "id": "f3a164ce",
   "metadata": {},
   "outputs": [],
   "source": [
    "# type 0 corresponds to truck and type 1 corresponds to ev-van\n",
    "vehicle_types = cudf.Series(vehicle_df['vehicle_type_codes'])\n",
    "\n",
    "# bikes can carry two units of goods while car can carry 5 units of goods\n",
    "vehicle_capacity = cudf.Series(vehicle_df['vehicle_capacity'])"
   ]
  },
  {
   "cell_type": "markdown",
   "id": "ef404975",
   "metadata": {},
   "source": [
    "<br>\n",
    "\n",
    "## Create Data-Model\n",
    "---\n",
    "Create a Data model with the following:\n",
    " - Number of locations\n",
    " - Number of vehicles in the fleet\n",
    " - Cost matrix\n",
    " - Location time windows\n",
    " - Vehicle time windows\n",
    " - Vehicle capacities\n",
    " - Variable demand across locations"
   ]
  },
  {
   "cell_type": "markdown",
   "id": "781f4a77",
   "metadata": {},
   "source": [
    "### Initialize routing.DataModel object"
   ]
  },
  {
   "cell_type": "code",
   "execution_count": null,
   "id": "5e513d4c",
   "metadata": {},
   "outputs": [],
   "source": [
    "# DO NOT CHANGE THIS CELL\n",
    "\n",
    "data_model = routing.DataModel(n_locations, n_vehicles)"
   ]
  },
  {
   "cell_type": "markdown",
   "id": "d28f5475",
   "metadata": {},
   "source": [
    "### Set Vehicle types and corresponding cost matrices"
   ]
  },
  {
   "cell_type": "code",
   "execution_count": null,
   "id": "5fcb5727",
   "metadata": {},
   "outputs": [],
   "source": [
    "# DO NOT CHANGE THIS CELL\n",
    "\n",
    "# set matrices associated with each vehicle type\n",
    "#data_model.set_vehicle_types(vehicle_types)\n",
    "\n",
    "# Distance Matrix\n",
    "data_model.add_cost_matrix(distance_matrix.copy(deep=True))\n",
    "#data_model.add_cost_matrix(distance_matrix, 1)\n",
    "\n",
    "# Time matrix\n",
    "data_model.add_transit_time_matrix(time_matrix_truck)\n",
    "#data_model.add_transit_time_matrix(time_matrix_ev, 0)"
   ]
  },
  {
   "cell_type": "code",
   "execution_count": null,
   "id": "411b3eb5",
   "metadata": {},
   "outputs": [],
   "source": [
    "# DO NOT CHANGE THIS CELL\n",
    "\n",
    "data_model.add_capacity_dimension(\n",
    "    \"order_wt\",\n",
    "    cudf.Series(orders),\n",
    "    cudf.Series(vehicle_capacity)\n",
    ")\n",
    "\n",
    "data_model.set_order_time_windows(\n",
    "    cudf.Series(order_tw_earliest),\n",
    "    cudf.Series(order_tw_latest), \n",
    ")\n",
    "\n",
    "data_model.set_order_service_times(\n",
    "    cudf.Series(service_time)\n",
    ")\n",
    "\n",
    "data_model.set_vehicle_time_windows(\n",
    "    cudf.Series(v_tw_earliest), \n",
    "    cudf.Series(v_tw_latest)\n",
    ")\n",
    "\n",
    "# Set minimum number of vehciles that need to be used to compute results\n",
    "data_model.set_min_vehicles(5)"
   ]
  },
  {
   "cell_type": "markdown",
   "id": "110c16a5",
   "metadata": {},
   "source": [
    "<br>\n",
    "\n",
    "## Create Solver Instance\n",
    "---\n",
    "The solver instance will take the data-model and return an optimized route plan. Additional configuration options are available to further customize solver behavior including: \n",
    "- The number of parallel agents (climbers) examining the solution search space\n",
    "- The maximum time allotted to find a solution\n",
    "- The minimum number of vehicles to be used etc."
   ]
  },
  {
   "cell_type": "code",
   "execution_count": null,
   "id": "4b585420",
   "metadata": {},
   "outputs": [],
   "source": [
    "# DO NOT CHANGE THIS CELL\n",
    "\n",
    "solver_settings = routing.SolverSettings()\n",
    "# set number of climbers that will try to search for an optimal path parallely\n",
    "solver_settings.set_number_of_climbers(128)\n",
    "# solver will run for given time limit and it will fail if needs more time\n",
    "solver_settings.set_time_limit(5)\n",
    "# solver will drop infeasible orders and assgin remaining orders\n",
    "solver_settings.set_drop_infeasible_orders(True)\n",
    "\n",
    "routing_solution = routing.Solve(data_model, solver_settings)\n",
    "if routing_solution.get_status() == 0:\n",
    "    print(\"Solution Found\")\n",
    "else:\n",
    "    print(\"No Solution Found\")"
   ]
  },
  {
   "cell_type": "markdown",
   "id": "5e3910a5",
   "metadata": {},
   "source": [
    "### Let us have a look at the output"
   ]
  },
  {
   "cell_type": "code",
   "execution_count": null,
   "id": "0570a59d",
   "metadata": {},
   "outputs": [],
   "source": [
    "# DO NOT CHANGE THIS CELL\n",
    "\n",
    "routes_df = routing_solution.get_route().to_pandas()\n",
    "routes_df.head()\n",
    "\n",
    "# Not a looking good, Eh?"
   ]
  },
  {
   "cell_type": "markdown",
   "id": "ae23dd1e",
   "metadata": {},
   "source": [
    "## Parse Output"
   ]
  },
  {
   "cell_type": "code",
   "execution_count": null,
   "id": "c04d5d25",
   "metadata": {},
   "outputs": [],
   "source": [
    "# DO NOT CHANGE THIS CELL\n",
    "print(\"Cost for the routing in time: \", routing_solution.final_cost)\n",
    "output = parse_output_summary(routing_solution, n_orders, n_vehicles, orders_details, vehicle_df, location_coordinates, distance_matrix, time_matrix_truck, n_depot)"
   ]
  },
  {
   "cell_type": "code",
   "execution_count": null,
   "id": "eac1fcdd",
   "metadata": {},
   "outputs": [],
   "source": [
    "# DO NOT CHANGE THIS CELL\n",
    "\n",
    "plot_map_df = prepare_data_for_maps(depot_df, output)\n",
    "all_routes = get_all_routes(plot_map_df)"
   ]
  },
  {
   "cell_type": "markdown",
   "id": "41932d8b",
   "metadata": {},
   "source": [
    "##### Let’s visualize our results"
   ]
  },
  {
   "cell_type": "markdown",
   "id": "fa3566b6",
   "metadata": {},
   "source": [
    "**Note :** Folium is used to visualize the routes and OSRM is used to get the asymmetric distance matrix. Both Folium and OSRM are not part of cuOpt SDK. OSRM can be replaced with third-party map frameworks like Google Maps, ESRI maps etc. We are not making a comparison of cuOpt against OSRM as routing solution."
   ]
  },
  {
   "cell_type": "code",
   "execution_count": null,
   "id": "c29bbfa1",
   "metadata": {
    "scrolled": true
   },
   "outputs": [],
   "source": [
    "# DO NOT CHANGE THIS CELL\n",
    "\n",
    "from IPython.display import display, Markdown, clear_output\n",
    "import ipywidgets as widgets\n",
    "from ipywidgets import interact\n",
    "\n",
    "w = widgets.Dropdown(\n",
    "    options=list(vehicle_df.vehicle_id),\n",
    "    value=list(vehicle_df.vehicle_id)[0],\n",
    "    description='Vehicle ID:',\n",
    ")\n",
    "\n",
    "def on_change(value):\n",
    "    if value in output.keys():\n",
    "        idx = list(plot_map_df[plot_map_df['vehicle_id'] == value].index)\n",
    "        filtered_dict = {k: v for k, v in all_routes.items() if k in idx}\n",
    "        display(get_map_by_vehicle(filtered_dict))\n",
    "        \n",
    "    else:\n",
    "        print(\"This Vehicle is not assigned to any order!!\")\n",
    "\n",
    "interact(on_change, value=w)"
   ]
  },
  {
   "cell_type": "markdown",
   "id": "3834367f",
   "metadata": {},
   "source": [
    "## Multi-Depot VRP\n",
    "\n",
    "We use similar data and constraints but to accomplish solution for Multi-Depot Vehicle Routing Problem(MDVRP)\n",
    "<mark>Orders, Vehicles and Depot</mark> data will be provided and you need to complete exercise."
   ]
  },
  {
   "cell_type": "markdown",
   "id": "217dbabc",
   "metadata": {},
   "source": [
    "### Problem Statement\n",
    "\n",
    "**The company is now dealing with the following problem:**\n",
    "- 96 locations to deliver:\n",
    "    - 3 Depots (Distribution Centers)\n",
    "    - 93 Orders\n",
    "    - Each location has a specific time window within which services/deliveries need to be performed\n",
    "    - Demand for orders may differ across locations\n",
    "- 10 Vehicles in the Fleet\n",
    "    - Each vehicle has associated capacities\n",
    "    - Each vehicle has a time window of its availability"
   ]
  },
  {
   "cell_type": "markdown",
   "id": "6d207c01",
   "metadata": {},
   "source": [
    "## Prepare Data"
   ]
  },
  {
   "cell_type": "markdown",
   "id": "635cfb6c",
   "metadata": {},
   "source": [
    "##### Remember?\n",
    "If there are <mark>n</mark> depot in the use case, you need to add as them top <mark>n</mark> rows in dataframe with <mark>service duration</mark> as 0. cuOpt considers first visiting depot as an order to complete."
   ]
  },
  {
   "cell_type": "code",
   "execution_count": null,
   "id": "e1fe66f6",
   "metadata": {},
   "outputs": [],
   "source": [
    "# DO NOT CHANGE THIS CELL\n",
    "# load data\n",
    "\n",
    "orders_details_md = pd.read_csv(DATA_PATH+\"orders_multi_depot.csv\")\n",
    "depot_df_md = pd.read_csv(DATA_PATH+\"multi_depot_location.csv\")\n",
    "\n",
    "# ADD COMMENT HERE\n",
    "orders_details_md = pd.concat([depot_df_md, orders_details_md]).reset_index(drop=True)\n",
    "\n",
    "orders_details_md = orders_details_md[:96]\n",
    "\n",
    "orders_details_md.head()\n"
   ]
  },
  {
   "cell_type": "code",
   "execution_count": null,
   "id": "a89ec89a",
   "metadata": {},
   "outputs": [],
   "source": [
    "# DO NOT CHANGE THIS CELL\n",
    "# Creating a 2-dimensional matrix from the columns \"lat\" and \"lng\" columns\n",
    "\n",
    "location_coordinates_md = orders_details_md[['lat', 'lng']]\n",
    "# Output looks like [[32.7727664105, -96.5800824456], [29.6832825242, -95.7305722105]............]\n",
    "\n",
    "\n",
    "# Units of products to be delivered at each location, this can be number of orders, weight or volume.\n",
    "orders_md = orders_details_md['order_wt']\n",
    "# 'orders' looks like [1020, 1989.......................2974]\n"
   ]
  },
  {
   "cell_type": "markdown",
   "id": "7a0b9c3a",
   "metadata": {},
   "source": [
    "### Prepare Time Windows"
   ]
  },
  {
   "cell_type": "code",
   "execution_count": null,
   "id": "99c6f6aa",
   "metadata": {},
   "outputs": [],
   "source": [
    "# DO NOT CHANGE THIS CELL\n",
    "orders_details_md['delivery_start_in_minutes'] = orders_details_md['delivery_start'].apply(get_minutes_from_datetime)\n",
    "orders_details_md['delivery_end_in_minutes']  = orders_details_md['delivery_end'].apply(get_minutes_from_datetime)\n",
    "\n",
    "\n",
    "# Earliest a delivery can be made\n",
    "order_tw_earliest_md = orders_details_md['delivery_start_in_minutes']\n",
    "# Latest a delivery can be made\n",
    "order_tw_latest_md = orders_details_md['delivery_end_in_minutes']\n",
    "\n",
    "# Service time required for the delivery/service\n",
    "service_time_md = orders_details_md['service_time']\n"
   ]
  },
  {
   "cell_type": "code",
   "execution_count": null,
   "id": "0e3b7495",
   "metadata": {
    "scrolled": true
   },
   "outputs": [],
   "source": [
    "# DO NOT CHANGE THIS CELL\n",
    "vehicle_df_md = pd.read_csv(DATA_PATH+\"vehicles_multi_depot.csv\")\n",
    "vehicle_df_md['vehicle_start_in_minutes']     = vehicle_df_md['vehicle_start'].apply(get_minutes_from_datetime)\n",
    "vehicle_df_md['vehicle_end_in_minutes']       = vehicle_df_md['vehicle_end'].apply(get_minutes_from_datetime)\n",
    "vehicle_df_md.head()"
   ]
  },
  {
   "cell_type": "code",
   "execution_count": null,
   "id": "9e546f75",
   "metadata": {},
   "outputs": [],
   "source": [
    "# DO NOT CHANGE THIS CELL\n",
    "# Creating a new column with the latitude and longitude as a tuple \n",
    "depot_df_md['lat_lng'] = depot_df_md.apply(lambda row: (row['lat'], row['lng']), axis=1)\n",
    "orders_details_md['lat_lng'] = orders_details_md.apply(lambda row: (row['lat'], row['lng']), axis=1)\n",
    "depot_df_md.head()"
   ]
  },
  {
   "cell_type": "code",
   "execution_count": null,
   "id": "ba3fd055",
   "metadata": {
    "scrolled": true
   },
   "outputs": [],
   "source": [
    "# DO NOT CHANGE THIS CELL\n",
    "# Assigning random depots as the vehicles' start locations\n",
    "random_values = np.random.choice(np.array(depot_df_md['lat_lng']), size=len(vehicle_df_md))\n",
    "\n",
    "vehicle_df_md['lat_lng'] = pd.Series(random_values)\n",
    "vehicle_df_md[['lat', 'lng']] = vehicle_df_md['lat_lng'].apply(lambda x: pd.Series(x))\n",
    "vehicle_df_md"
   ]
  },
  {
   "cell_type": "code",
   "execution_count": null,
   "id": "54e5181e",
   "metadata": {},
   "outputs": [],
   "source": [
    "# DO NOT CHANGE THIS CELL\n",
    "n_depot              = len(depot_df_md)\n",
    "n_locations          = len(location_coordinates_md)\n",
    "n_vehicles           = len(vehicle_df_md)\n",
    "n_orders             = len(orders_details_md)\n",
    "\n",
    "# Number of orders each vehicle can carry, this can be number of orders, weight or volumne\n",
    "vehicle_capacity_md     = vehicle_df_md['vehicle_capacity']\n",
    "\n",
    "# Earliest a vehicle can start \n",
    "v_tw_earliest_md        = vehicle_df_md['vehicle_start_in_minutes']\n",
    "\n",
    "# Latest a vehicle will be working\n",
    "v_tw_latest_md          = vehicle_df_md['vehicle_end_in_minutes']\n",
    "\n",
    "# Used to identify differnt vehicle\n",
    "vehicle_colors       = [\"blue\", \"white\", \"green\", \"pink\", \"yellow\"]"
   ]
  },
  {
   "cell_type": "code",
   "execution_count": null,
   "id": "1e51cb43",
   "metadata": {},
   "outputs": [],
   "source": [
    "# DO NOT CHANGE THIS CELL\n",
    "vehicle_df_md['idx_lat'] = 0\n",
    "\n",
    "for i in range(n_depot):\n",
    "    vehicle_df_md.loc[vehicle_df_md['lat'] == orders_details_md.iloc[i]['lat'], 'idx_lat'] = i\n",
    "vehicle_df_md"
   ]
  },
  {
   "cell_type": "code",
   "execution_count": null,
   "id": "3f6e2ede",
   "metadata": {},
   "outputs": [],
   "source": [
    "vehicle_locations = cudf.Series(list(vehicle_df_md.idx_lat))\n",
    "vehicle_locations"
   ]
  },
  {
   "cell_type": "markdown",
   "id": "fceae8f4",
   "metadata": {},
   "source": [
    "### Visualize Depot and Destinations"
   ]
  },
  {
   "cell_type": "markdown",
   "id": "00ae4ed7",
   "metadata": {},
   "source": [
    "Depot: 🔴\n",
    " <br />Restaurant: 🟢\n",
    " <br />Retailer: 🔵\n",
    " <br />Business:  🟠"
   ]
  },
  {
   "cell_type": "code",
   "execution_count": null,
   "id": "9f841eac",
   "metadata": {},
   "outputs": [],
   "source": [
    "plot_order_locations(orders_details_md, location_coordinates_md)"
   ]
  },
  {
   "cell_type": "code",
   "execution_count": null,
   "id": "2b8edd02",
   "metadata": {},
   "outputs": [],
   "source": [
    "distance_matrix = build_distance_matrix(orders_details_md)\n",
    "time_matrix = build_time_matrix(orders_details_md)"
   ]
  },
  {
   "cell_type": "code",
   "execution_count": null,
   "id": "a2b4feb0",
   "metadata": {},
   "outputs": [],
   "source": [
    "# convert all data into cuDF dataframes\n",
    "distance_matrix = cudf.DataFrame(distance_matrix)\n",
    "time_matrix = cudf.DataFrame(time_matrix)\n",
    "location_coordinates_md = cudf.DataFrame(location_coordinates_md[n_depot:])"
   ]
  },
  {
   "cell_type": "code",
   "execution_count": null,
   "id": "f614b1ae",
   "metadata": {},
   "outputs": [],
   "source": [
    "# cudf.Series(list(location_coordinates_md.index))"
   ]
  },
  {
   "cell_type": "markdown",
   "id": "c62a4bfe",
   "metadata": {},
   "source": [
    "<br>\n",
    "\n",
    "## Create Data-Model\n",
    "---\n",
    "Create a Data model with the following:\n",
    " - Number of locations\n",
    " - Number of vehicles in the fleet\n",
    " - Cost matrix\n",
    " - Location time windows\n",
    " - Vehicle time windows\n",
    " - Vehicle capacities\n",
    " - Variable demand across locations"
   ]
  },
  {
   "cell_type": "code",
   "execution_count": null,
   "id": "e93191f3",
   "metadata": {},
   "outputs": [],
   "source": [
    "# DO NOT CHANGE THIS CELL\n",
    "\n",
    "data_model = routing.DataModel(n_locations, n_vehicles, n_orders-n_depot)\n",
    "data_model.add_cost_matrix(distance_matrix)\n",
    "data_model.set_order_locations(cudf.Series(list(location_coordinates_md.index)))\n",
    "data_model.add_capacity_dimension(\n",
    "    \"order_wt\",\n",
    "    cudf.Series(orders_md[n_depot:]),\n",
    "    cudf.Series(vehicle_capacity_md)\n",
    ")\n",
    "data_model.set_order_time_windows(\n",
    "    cudf.Series(order_tw_earliest_md[n_depot:]),\n",
    "    cudf.Series(order_tw_latest_md[n_depot:]), \n",
    ")\n",
    "\n",
    "data_model.set_order_service_times(\n",
    "    cudf.Series(service_time_md[n_depot:])\n",
    ")\n",
    "\n",
    "data_model.set_vehicle_time_windows(\n",
    "    cudf.Series(v_tw_earliest_md), \n",
    "    cudf.Series(v_tw_latest_md)\n",
    ")\n",
    "\n",
    "data_model.set_vehicle_locations(\n",
    "    cudf.Series(vehicle_locations),\n",
    "    cudf.Series(vehicle_locations)\n",
    ")\n",
    "# # Set minimum number of vehicles that need to be used to compute results\n",
    "# data_model.set_min_vehicles(5)"
   ]
  },
  {
   "cell_type": "markdown",
   "id": "12de774c",
   "metadata": {},
   "source": [
    "<br>\n",
    "\n",
    "## Create Solver Instance\n",
    "---\n",
    "The solver instance will take the data-model and return an optimized route plan. Additional configuration options are available to further customize solver behavior including: \n",
    "- The number of parallel agents (climbers) examining the solution search space\n",
    "- The maximum time allotted to find a solution\n",
    "- The minimum number of vehicles to be used and more"
   ]
  },
  {
   "cell_type": "code",
   "execution_count": null,
   "id": "4cf46f97",
   "metadata": {},
   "outputs": [],
   "source": [
    "# DO NOT CHANGE THIS CELL\n",
    "\n",
    "solver_settings = routing.SolverSettings()\n",
    "# set number of climbers that will try to search for an optimal path parallely\n",
    "solver_settings.set_number_of_climbers(4096)\n",
    "# solver will run for given time limit and it will fail if needs more time\n",
    "solver_settings.set_time_limit(5)\n",
    "# solver will drop infeasible orders and assgin remaining orders\n",
    "solver_settings.set_drop_infeasible_orders(True)\n",
    "\n",
    "routing_solution = routing.Solve(data_model, solver_settings)\n",
    "if routing_solution.get_status() == 0:\n",
    "    print(\"Solution Found\")\n",
    "else:\n",
    "    print(\"No Solution Found\")"
   ]
  },
  {
   "cell_type": "markdown",
   "id": "352d76ec",
   "metadata": {},
   "source": [
    "### Let us have a look at the output"
   ]
  },
  {
   "cell_type": "code",
   "execution_count": null,
   "id": "d777c894",
   "metadata": {},
   "outputs": [],
   "source": [
    "# DO NOT CHANGE THIS CELL\n",
    "\n",
    "routes_df = routing_solution.get_route().to_pandas()\n",
    "routes_df[routes_df['type']=='Depot']\n",
    "\n",
    "# Not a looking good, Eh?"
   ]
  },
  {
   "cell_type": "code",
   "execution_count": null,
   "id": "dc07d69b",
   "metadata": {},
   "outputs": [],
   "source": [
    "#n_depot_md = len(depot_df_md)"
   ]
  },
  {
   "cell_type": "markdown",
   "id": "b7c2270a",
   "metadata": {},
   "source": [
    "## Parse Output"
   ]
  },
  {
   "cell_type": "code",
   "execution_count": null,
   "id": "5d101ef5",
   "metadata": {},
   "outputs": [],
   "source": [
    "output = parse_output_summary(routing_solution, n_orders, n_vehicles, orders_details_md, vehicle_df_md, location_coordinates_md, distance_matrix, time_matrix, n_depot)"
   ]
  },
  {
   "cell_type": "markdown",
   "id": "76f24621",
   "metadata": {},
   "source": [
    "**NOTE:** `get_all_routes` function is expected to take 30-60 seconds as we are making API calls to OSRM server which is external."
   ]
  },
  {
   "cell_type": "code",
   "execution_count": null,
   "id": "22a6a3b4",
   "metadata": {},
   "outputs": [],
   "source": [
    "plot_map_df = prepare_data_for_maps(depot_df_md, output)\n",
    "all_routes = get_all_routes(plot_map_df)"
   ]
  },
  {
   "cell_type": "code",
   "execution_count": null,
   "id": "4870f6cf",
   "metadata": {},
   "outputs": [],
   "source": [
    "# DO NOT CHANGE THIS CELL\n",
    "\n",
    "from IPython.display import display, Markdown, clear_output\n",
    "import ipywidgets as widgets\n",
    "from ipywidgets import interact\n",
    "\n",
    "w = widgets.Dropdown(\n",
    "    options=list(vehicle_df_md.vehicle_id),\n",
    "    value=list(vehicle_df_md.vehicle_id)[0],\n",
    "    description='Vehicle ID:',\n",
    ")\n",
    "\n",
    "def on_change(value):\n",
    "    if value in output.keys():\n",
    "        idx = list(plot_map_df[plot_map_df['vehicle_id'] == value].index)\n",
    "        filtered_dict = {k: v for k, v in all_routes.items() if k in idx}\n",
    "        display(get_map_by_vehicle(filtered_dict))\n",
    "        \n",
    "    else:\n",
    "        print(\"This Vehicle is not assigned to any order!!\")\n",
    "\n",
    "interact(on_change, value=w)"
   ]
  },
  {
   "cell_type": "code",
   "execution_count": null,
   "id": "eaeaa2f6",
   "metadata": {},
   "outputs": [],
   "source": []
  }
 ],
 "metadata": {
  "kernelspec": {
   "display_name": "Python 3 (ipykernel)",
   "language": "python",
   "name": "python3"
  },
  "language_info": {
   "codemirror_mode": {
    "name": "ipython",
    "version": 3
   },
   "file_extension": ".py",
   "mimetype": "text/x-python",
   "name": "python",
   "nbconvert_exporter": "python",
   "pygments_lexer": "ipython3",
   "version": "3.9.15"
  }
 },
 "nbformat": 4,
 "nbformat_minor": 5
}

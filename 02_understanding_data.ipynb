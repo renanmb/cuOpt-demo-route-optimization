{
 "cells": [
  {
   "cell_type": "markdown",
   "id": "c3c2f06c",
   "metadata": {},
   "source": [
    "## Introduction\n",
    "\n",
    "Imagine you work for a company called NV-WholeSale, a wholesale food products distribution company, with hundreds of locations spread across the United States. NV-WholeSale offers low warehouse prices for quality products, as a result most restaurants in the vicinity purchase groceries, raw materials, disposable kitchenware, and other essentials in bulk from NV-WholeSale through online orders. The company has established Distribution Centers (DCs) in most cities, and raw materials are transported daily from these DCs to restaurants, commercial clients, and healthcare facilities.\n",
    "\n",
    "As a member of the Logistics Optimization team, your role is to develop software that facilitates the efficient scheduling and delivery of products to customers."
   ]
  },
  {
   "cell_type": "markdown",
   "id": "43ffb99f",
   "metadata": {},
   "source": [
    "## Data Analysis\n",
    "\n",
    "We have three <mark>.csv</mark> files representing important bulding blocks for data modeling.\n",
    "\n",
    "1. orders.csv: order details and other related information\n",
    "2. vehicles.csv: information about vehicles available for transportation of goods\n",
    "3. depot.csv: distribution centers information\n",
    "\n",
    "We use cuDF, the GPU equivalent of pandas, for data analysis [RAPIDS cuDF](https://rapids.ai/). cuDF is a Python GPU DataFrame library (built on the Apache Arrow columnar memory format) for loading, joining, aggregating, filtering, and otherwise manipulating data. cuDF also provides a pandas-like API that will be familiar to data engineers & data scientists, so you can use it to easily accelerate their workflows without going into the details of CUDA programming. cuDF accelerates workflows where the data is large by leveraging the GPU(s). To understand why cuDF performs well with GPUs, feel to refer to this [blog!](https://developer.nvidia.com/blog/pandas-dataframe-tutorial-beginners-guide-to-gpu-accelerated-dataframes-in-python/)"
   ]
  },
  {
   "cell_type": "code",
   "execution_count": null,
   "id": "3cd8a886",
   "metadata": {},
   "outputs": [],
   "source": [
    "# DO NOT CHANGE THIS CELL\n",
    "# import dependencies\n",
    "import pandas as pd\n",
    "import cudf as cudf\n",
    "import time"
   ]
  },
  {
   "cell_type": "code",
   "execution_count": null,
   "id": "2f712d62",
   "metadata": {},
   "outputs": [],
   "source": [
    "data_path = \"data/\""
   ]
  },
  {
   "cell_type": "code",
   "execution_count": null,
   "id": "f60b8eb7",
   "metadata": {},
   "outputs": [],
   "source": [
    "%%time\n",
    "# DO NOT CHANGE THIS CELL\n",
    "# loading a sample dataframe with pandas\n",
    "\n",
    "cudf.read_csv(data_path+\"custom_2020.csv\")"
   ]
  },
  {
   "cell_type": "code",
   "execution_count": null,
   "id": "e13d00ea",
   "metadata": {},
   "outputs": [],
   "source": [
    "%%time\n",
    "# DO NOT CHANGE THIS CELL\n",
    "# loading the same dataframe with cuDF\n",
    "\n",
    "cudf.read_csv(data_path+\"custom_2020.csv\")"
   ]
  },
  {
   "cell_type": "markdown",
   "id": "ab0c577a",
   "metadata": {},
   "source": [
    "Data Modeling is an important step prior to utilizing the cuOpt functionalities. To revisit your data analysis abilities, kindly complete the following exercises as a warm-up.\n",
    "\n",
    "Note: If you are familiar with pandas, please skip to the next notebook."
   ]
  },
  {
   "cell_type": "code",
   "execution_count": null,
   "id": "c5ba9951",
   "metadata": {},
   "outputs": [],
   "source": [
    "# DO NOT CHANGE THIS CELL\n",
    "# loading data from .csv to dataframes\n",
    "\n",
    "orders_df = cudf.read_csv(data_path+\"orders.csv\")\n",
    "depot_df = cudf.read_csv(data_path+\"depot.csv\")\n",
    "vehicles_df = cudf.read_csv(data_path+\"vehicles.csv\")\n",
    "\n",
    "# To view the orders dataframe\n",
    "orders_df.head()"
   ]
  },
  {
   "cell_type": "code",
   "execution_count": null,
   "id": "1afedb4c",
   "metadata": {},
   "outputs": [],
   "source": [
    "# Find total number of orders\n",
    "n_orders = <<<<FIXME>>>> # Add your code here\n",
    "n_orders"
   ]
  },
  {
   "cell_type": "code",
   "execution_count": null,
   "id": "3964816a",
   "metadata": {},
   "outputs": [],
   "source": [
    "# EXERCISE\n",
    "# Similarly, find total number of depots and total number of vehicles\n",
    "n_depot = <<<<FIXME>>>> # Add your code here\n",
    "n_vehicles = <<<<FIXME>>>> # Add your code here\n",
    "\n",
    "n_depot, n_vehicles"
   ]
  },
  {
   "cell_type": "code",
   "execution_count": null,
   "id": "9f2af758",
   "metadata": {},
   "outputs": [],
   "source": [
    "# DO NOT CHANGE THIS CELL\n",
    "\n",
    "# To view the orders dataframe\n",
    "depot_df.head()"
   ]
  },
  {
   "cell_type": "markdown",
   "id": "2513cbc5",
   "metadata": {},
   "source": [
    "You will see different vehicle attributes in <mark>vehicles_df</mark>.\n",
    "\n",
    "1. <mark>vehicle_id</mark>\n",
    "2. <mark>vehicles_type</mark>"
   ]
  },
  {
   "cell_type": "code",
   "execution_count": null,
   "id": "f7302bf3",
   "metadata": {},
   "outputs": [],
   "source": [
    "# DO NOT CHANGE THIS CELL\n",
    "\n",
    "# To view the vehicles dataframe\n",
    "vehicles_df.head()"
   ]
  },
  {
   "cell_type": "code",
   "execution_count": null,
   "id": "34e603bc",
   "metadata": {},
   "outputs": [],
   "source": [
    "# DO NOT CHANGE THIS CELL\n",
    "# Find out the number of unique vehicle ids, it should be equal to the number of vehicles since each vehicle has a unique ID\n",
    "\n",
    "vehicle_ids = vehicles_df['vehicle_id'].unique()\n",
    "len(vehicle_ids)"
   ]
  },
  {
   "cell_type": "code",
   "execution_count": null,
   "id": "ed67bf1f",
   "metadata": {},
   "outputs": [],
   "source": [
    "# DO NOT CHANGE THIS CELL\n",
    "# Find out the carrying capacity of trucks\n",
    "\n",
    "truck_capacity = vehicles_df[vehicles_df['vehicle_type'] == \"Truck\"][\"vehicle_capacity\"].unique()\n",
    "truck_capacity"
   ]
  },
  {
   "cell_type": "code",
   "execution_count": null,
   "id": "e17a2bc3",
   "metadata": {},
   "outputs": [],
   "source": [
    "# EXERCISE\n",
    "# How many types of vehicles?\n",
    "vehicle_types = <<<<FIXME>>>> # Add your code here\n",
    "\n",
    "# What is the maximum distance an 'EV Van' can go?\n",
    "ev_van_max_distance = <<<<FIXME>>>> # Add your code here\n",
    "\n",
    "print(\"Vehicle Types = \", vehicle_types)\n",
    "print(\"Maximum Distance for an EV Van = \", ev_van_max_distance)"
   ]
  },
  {
   "cell_type": "code",
   "execution_count": null,
   "id": "480914a6",
   "metadata": {},
   "outputs": [],
   "source": [
    "# EXERCISE\n",
    "#Find out the different order types\n",
    "order_types = <<<<FIXME>>>> # Add your code here\n",
    "\n",
    "# HINT: Use the min and std functions in pandas\n",
    "#Find out the minimum order weight\n",
    "min_wt = <<<<FIXME>>>> # Add your code here\n",
    "\n",
    "#Find out the standard deviation of the order weights\n",
    "std_wt = <<<<FIXME>>>> # Add your code here\n",
    "\n",
    "order_types, min_wt, std_wt"
   ]
  },
  {
   "cell_type": "code",
   "execution_count": null,
   "id": "9382d34d",
   "metadata": {},
   "outputs": [],
   "source": [
    "# DO NOT CHANGE THIS CELL\n",
    "# Find out the vehicle IDs of EV vans \n",
    "\n",
    "EV_ids= vehicles_df.loc[vehicles_df[\"vehicle_type\"]==\"EV Van\",[\"vehicle_id\"]]\n",
    "EV_ids"
   ]
  },
  {
   "cell_type": "code",
   "execution_count": null,
   "id": "fc416986",
   "metadata": {},
   "outputs": [],
   "source": [
    "# DO NOT CHANGE THIS CELL\n",
    "# Find out the order IDs, service times and order weights for orders with latitude < 32.5 and longitude < -96\n",
    "\n",
    "orders_df.loc[(orders_df['lat'] < 32.5) & (orders_df['lng'] < -96), [\"order_ID\", \"service_time\",\"order_wt\"]]"
   ]
  },
  {
   "cell_type": "code",
   "execution_count": null,
   "id": "d1ab5048",
   "metadata": {},
   "outputs": [],
   "source": [
    "# EXERCISE\n",
    "# Find out the order IDs, service times and address of all \"Retailer\" orders\n",
    "\n",
    "retailer_order = <<<<FIXME>>>> # Add your code here\n",
    "retailer_order"
   ]
  },
  {
   "cell_type": "code",
   "execution_count": null,
   "id": "79ac0c9d",
   "metadata": {},
   "outputs": [],
   "source": [
    "# EXERCISE\n",
    "# Find out the vehicle IDs, vehicle start and end times of all \"Trucks\"\n",
    "\n",
    "trucks = <<<<FIXME>>>> # Add your code here\n",
    "trucks"
   ]
  }
 ],
 "metadata": {
  "kernelspec": {
   "display_name": "Python 3 (ipykernel)",
   "language": "python",
   "name": "python3"
  },
  "language_info": {
   "codemirror_mode": {
    "name": "ipython",
    "version": 3
   },
   "file_extension": ".py",
   "mimetype": "text/x-python",
   "name": "python",
   "nbconvert_exporter": "python",
   "pygments_lexer": "ipython3",
   "version": "3.9.15"
  }
 },
 "nbformat": 4,
 "nbformat_minor": 5
}

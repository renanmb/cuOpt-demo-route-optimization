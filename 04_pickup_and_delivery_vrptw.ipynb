{
 "cells": [
  {
   "cell_type": "markdown",
   "id": "e8298cb1",
   "metadata": {},
   "source": [
    "**Learning Objectives:**\n",
    "- Modeling of a Pickup-Delivery Vehicle Routing Problem(PDVRP-TW) on top of MDVRP from previous notebook\n",
    "- Introduction to more advanced real world constraints"
   ]
  },
  {
   "cell_type": "markdown",
   "id": "d914d767",
   "metadata": {},
   "source": [
    "## Pickup and Delivery VRP with Time Windows (PDVRP-TW)\n",
    "\n",
    "In scenarios where you need to do a series of pickup-delivery orders from multiple locations instead of pickup from single depot, we need to PDVRP-TW is used. \n",
    "A real world example would be, courier delivery companies are offering to pickup packages from customers and deliver them to recipients. "
   ]
  },
  {
   "cell_type": "markdown",
   "id": "6c5d1551",
   "metadata": {},
   "source": [
    "**The company is now dealing with the following problem:**\n",
    "- 98 locations in total:\n",
    "    - 49 locations to pickup\n",
    "    - 49 locations to delivery\n",
    "    - 1 Depot (Distribution Center)\n",
    "    \n",
    "- 25 Vehicles in the Fleet\n",
    "- Each vehicle has associated capacities\n",
    "- Each location has a specific time window within which services/deliveries need to be performed\n",
    "- Demand for orders may differ across locations\n",
    "- Each vehicle has a time window of its availability"
   ]
  },
  {
   "cell_type": "code",
   "execution_count": null,
   "id": "50737f77",
   "metadata": {},
   "outputs": [],
   "source": [
    "# DO NOT CHANGE THIS CELL\n",
    "# import dependencies\n",
    "\n",
    "from cuopt import routing\n",
    "import cudf\n",
    "import random\n",
    "import cupy\n",
    "import pandas as pd\n",
    "from scipy.spatial import distance\n",
    "import helper_function.helper_map as helper_map\n",
    "from helper_function.helper_data import parse_output_summary, prepare_data_for_maps\n",
    "import numpy as np\n",
    "from helper_function.data_etl import get_minutes_from_datetime, build_distance_matrix, build_time_matrix, plot_order_locations\n",
    "from helper_function.map_util import get_route, get_map, get_all_routes, get_map_by_vehicle"
   ]
  },
  {
   "cell_type": "markdown",
   "id": "4657554d",
   "metadata": {},
   "source": [
    "## Prepare Data\n",
    "\n",
    "Remember the cuOpt rule to add depot locations at the beginning of the orders dataframe?"
   ]
  },
  {
   "cell_type": "code",
   "execution_count": null,
   "id": "7c0dc673",
   "metadata": {
    "scrolled": true
   },
   "outputs": [],
   "source": [
    "# DO NOT CHANGE THIS CELL\n",
    "\n",
    "DATA_PATH = \"data/\"\n",
    "\n",
    "# load data\n",
    "\n",
    "orders_details = pd.read_csv(DATA_PATH+\"orders_pickup_delivery.csv\")\n",
    "depot_df       = pd.read_csv(DATA_PATH+\"single_depot_location.csv\")\n",
    "n_depot        = len(depot_df)  \n",
    "\n",
    "orders_details = pd.concat([orders_details, depot_df]).reset_index(drop=True)\n",
    "\n",
    "orders_details.head()"
   ]
  },
  {
   "cell_type": "code",
   "execution_count": null,
   "id": "d28b9091",
   "metadata": {},
   "outputs": [],
   "source": [
    "order_pickup_locations = pd.read_csv(DATA_PATH+\"pickup_delivery_indices.csv\")"
   ]
  },
  {
   "cell_type": "code",
   "execution_count": null,
   "id": "f80da5cc",
   "metadata": {},
   "outputs": [],
   "source": [
    "# DO NOT CHANGE THIS CELL\n",
    "#pickup_locations = order_pickup_locations[\"pickup_locations\"] + 1\n",
    "#delivery_locations  = order_pickup_locations[\"delivery_locations\"] + 1\n",
    "pickup_locations = order_pickup_locations[\"pickup_locations\"]\n",
    "delivery_locations  = order_pickup_locations[\"delivery_locations\"]\n",
    "#n_locations      = len(pickup_locations) + len(order_locations)\n",
    "#pickup_locations = random.choices(pickup_locations, k=len(order_locations))"
   ]
  },
  {
   "cell_type": "code",
   "execution_count": null,
   "id": "cb317e02",
   "metadata": {},
   "outputs": [],
   "source": [
    "# DO NOT CHANGE THIS CELL\n",
    "# Creating a 2-dimensional matrix from the columns \"lat\" and \"lng\" columns\n",
    "\n",
    "location_coordinates = orders_details[['lat', 'lng']]\n",
    "# Output looks like [[32.7727664105, -96.5800824456], [29.6832825242, -95.7305722105]............]\n",
    "\n",
    "\n",
    "# Units of products to be delivered at each location, this can be number of orders, weight or volume.\n",
    "order_demand               = orders_details['order_wt']\n",
    "# 'order_demand' looks like [1020, 1989.......................2974]\n"
   ]
  },
  {
   "cell_type": "markdown",
   "id": "b926a355",
   "metadata": {},
   "source": [
    "### Preparing Time Windows"
   ]
  },
  {
   "cell_type": "code",
   "execution_count": null,
   "id": "edf7f7fd",
   "metadata": {},
   "outputs": [],
   "source": [
    "# DO NOT CHANGE THIS CELL\n",
    "orders_details['delivery_start_in_minutes']     = orders_details['delivery_start'].apply(get_minutes_from_datetime)\n",
    "orders_details['delivery_end_in_minutes']       = orders_details['delivery_end'].apply(get_minutes_from_datetime)\n",
    "\n",
    "\n",
    "# Earliest a delivery can be made\n",
    "order_tw_earliest        = orders_details['delivery_start_in_minutes']\n",
    "# Latest a delivery can be made\n",
    "order_tw_latest          = orders_details['delivery_end_in_minutes']\n",
    "\n",
    "# Service time required for the delivery/service\n",
    "service_time         = orders_details['service_time']\n"
   ]
  },
  {
   "cell_type": "code",
   "execution_count": null,
   "id": "13e17d2b",
   "metadata": {},
   "outputs": [],
   "source": [
    "# DO NOT CHANGE THIS CELL\n",
    "\n",
    "vehicle_df = pd.read_csv(DATA_PATH+\"vehicles_all_multi_depot.csv\")\n",
    "vehicle_df['vehicle_start_in_minutes']     = vehicle_df['vehicle_start'].apply(get_minutes_from_datetime)\n",
    "vehicle_df['vehicle_end_in_minutes']       = vehicle_df['vehicle_end'].apply(get_minutes_from_datetime)\n",
    "vehicle_df.head()"
   ]
  },
  {
   "cell_type": "code",
   "execution_count": null,
   "id": "8b3b54fd",
   "metadata": {},
   "outputs": [],
   "source": [
    "# DO NOT CHANGE THIS CELL\n",
    "\n",
    "n_depot              = len(depot_df)\n",
    "n_orders             = len(orders_details) - n_depot\n",
    "n_locations          = len(location_coordinates)\n",
    "n_vehicles           = len(vehicle_df)\n",
    "\n",
    "# Number of orders each vehicle can carry, this can be number of orders, weight or volumne\n",
    "vehicle_capacity     = vehicle_df['vehicle_capacity']\n",
    "\n",
    "# Earliest a vehicle can start \n",
    "v_tw_earliest        = vehicle_df['vehicle_start_in_minutes']\n",
    "\n",
    "# Latest a vehicle will be working\n",
    "v_tw_latest          = vehicle_df['vehicle_end_in_minutes']\n",
    "\n",
    "# Used to identify differnt vehicle\n",
    "vehicle_colors       = [\"blue\", \"white\", \"green\", \"pink\", \"yellow\"]"
   ]
  },
  {
   "cell_type": "code",
   "execution_count": null,
   "id": "76fcf563",
   "metadata": {},
   "outputs": [],
   "source": [
    "# DO NOT CHANGE THIS CELL\n",
    "\n",
    "vehicle_df['vehicle_type_code'] = vehicle_df['vehicle_type'].astype('category')\n",
    "vehicle_df['vehicle_type_code'] = vehicle_df['vehicle_type_code'].cat.codes"
   ]
  },
  {
   "cell_type": "code",
   "execution_count": null,
   "id": "aaa24ddd",
   "metadata": {},
   "outputs": [],
   "source": [
    "# type 0 corresponds to bike and type 1 corresponds to car\n",
    "vehicle_types = cudf.Series(vehicle_df['vehicle_type_code'])"
   ]
  },
  {
   "cell_type": "markdown",
   "id": "245267f1",
   "metadata": {},
   "source": [
    "### Visualize Depot and Destinations"
   ]
  },
  {
   "cell_type": "markdown",
   "id": "36149878",
   "metadata": {},
   "source": [
    "This is an interactive map based on <mark>folium</mark> python mapping library"
   ]
  },
  {
   "cell_type": "markdown",
   "id": "d8e4d37c",
   "metadata": {},
   "source": [
    "Depot: 🔴\n",
    " <br />Pickup: 🟢\n",
    " <br />Delivery: 🔵"
   ]
  },
  {
   "cell_type": "code",
   "execution_count": null,
   "id": "0d11c47f",
   "metadata": {},
   "outputs": [],
   "source": [
    "# DO NOT CHANGE THIS CELL\n",
    "\n",
    "plot_order_locations(orders_details, location_coordinates, pdp=0)"
   ]
  },
  {
   "cell_type": "code",
   "execution_count": null,
   "id": "5de215ed",
   "metadata": {},
   "outputs": [],
   "source": [
    "distance_matrix = build_distance_matrix(orders_details)\n",
    "time_matrix = build_time_matrix(orders_details)"
   ]
  },
  {
   "cell_type": "code",
   "execution_count": null,
   "id": "03fcffe2",
   "metadata": {},
   "outputs": [],
   "source": [
    "# DO NOT CHANGE THIS CELL\n",
    "# convert all data into cuDF dataframes\n",
    "import cupy\n",
    "distance_matrix = cudf.DataFrame(distance_matrix)\n",
    "time_matrix = cudf.DataFrame(time_matrix)\n",
    "pickup_locations = cudf.Series(pickup_locations)\n",
    "delivery_locations  = cudf.Series(delivery_locations)"
   ]
  },
  {
   "cell_type": "markdown",
   "id": "e785ccd6",
   "metadata": {},
   "source": [
    "### Setting Order locations\n",
    "\n",
    "From the cuOpt solver_settings perspective, each distinct transaction (pickup order or delivery order) is treated separately. The locations for each order is specified using order locations. The first entry in order locations array is always reserved for the notion of depot for the problem. So for a total n orders, the order location array is of size 2n+1."
   ]
  },
  {
   "cell_type": "code",
   "execution_count": null,
   "id": "a0ec85ae",
   "metadata": {},
   "outputs": [],
   "source": [
    "# DO NOT CHANGE THIS CELL\n",
    "\n",
    "# concat order locations\n",
    "\n",
    "pickup_order_locations = pd.concat([order_pickup_locations[\"pickup_locations\"], order_pickup_locations[\"delivery_locations\"]], ignore_index=True)\n",
    "\n",
    "pickup_order_locations\n"
   ]
  },
  {
   "cell_type": "markdown",
   "id": "37cb8c75",
   "metadata": {},
   "source": [
    "### Mapping pickups to deliveries \n",
    "\n",
    "Order locations do not provide information regarding the type of order (i.e, pickup or delivery). This information is provided to solver by setting two arrays pickup_orders and delivery_orders. The entries of these arrays corresponding the order numbers in exanded list described above.\n",
    "\n",
    "For a pair order i, pickup_orders[i] and delivery_orders[i] correspond to order index in 2n total orders. Furthermore, order_locations[pickup_orders[i]] and order_locations[delivery_orders[i]] indicate the pickup location and delivery location of order i."
   ]
  },
  {
   "cell_type": "markdown",
   "id": "15421a0e",
   "metadata": {},
   "source": [
    "When dropping off goods to the order locations, remove one unit of demand from the vehicle"
   ]
  },
  {
   "cell_type": "code",
   "execution_count": null,
   "id": "f0071707",
   "metadata": {},
   "outputs": [],
   "source": [
    "# Create pickup and delivery demand\n",
    "# We already taken care of this step in data generation\n",
    "order_demand"
   ]
  },
  {
   "cell_type": "markdown",
   "id": "d925e625",
   "metadata": {},
   "source": [
    "<br>\n",
    "\n",
    "## Create Data-Model\n",
    "---\n",
    "Create a Data model with the following:\n",
    " - Number of locations\n",
    " - Number of vehicles in the fleet\n",
    " - Cost matrix\n",
    " - Location time windows\n",
    " - Vehicle time windows\n",
    " - Vehicle capacities\n",
    " - Variable demand across locations"
   ]
  },
  {
   "cell_type": "code",
   "execution_count": null,
   "id": "f2587ac1",
   "metadata": {},
   "outputs": [],
   "source": [
    "# DO NOT CHANGE THIS CELL\n",
    "\n",
    "order_tw_earliest = cudf.Series(order_tw_earliest)\n",
    "\n",
    "order_tw_latest = cudf.Series(order_tw_latest)\n",
    "\n",
    "service_time = cudf.Series(service_time)\n",
    "\n",
    "pickup_order_locations = cudf.Series(pickup_order_locations)\n",
    "\n",
    "# We are making flexible time windows to help understand the concept when all pickup-delivery pairs are assigned\n",
    "\n",
    "order_tw_earliest.iloc[:] = 480\n",
    "order_tw_latest.iloc[:] = 1440"
   ]
  },
  {
   "cell_type": "code",
   "execution_count": null,
   "id": "121dfd48",
   "metadata": {},
   "outputs": [],
   "source": [
    "# DO NOT CHANGE THIS CELL\n",
    "\n",
    "data_model = routing.DataModel(n_locations, n_vehicles, n_orders)\n",
    "\n",
    "data_model.add_cost_matrix(distance_matrix)\n",
    "\n",
    "# add order locations\n",
    "data_model.set_order_locations(pickup_order_locations)\n",
    "\n",
    "# add pickup and delivery pairs.\n",
    "data_model.set_pickup_delivery_pairs(cudf.Series(pickup_locations), cudf.Series(delivery_locations))\n",
    "\n",
    "# Can you guess why we are using -1 in order_demand?\n",
    "\n",
    "data_model.add_capacity_dimension(\n",
    "    \"order_wt\",\n",
    "    cudf.Series(order_demand[:-1]),\n",
    "    cudf.Series(vehicle_capacity)\n",
    ")\n",
    "data_model.set_order_time_windows(\n",
    "    cudf.Series(order_tw_earliest[:-1]),\n",
    "    cudf.Series(order_tw_latest[:-1]), \n",
    ")\n",
    "\n",
    "data_model.set_order_service_times(\n",
    "    cudf.Series(service_time[:-1])\n",
    ")\n",
    "\n",
    "data_model.set_vehicle_time_windows(\n",
    "    cudf.Series(v_tw_earliest), \n",
    "    cudf.Series(v_tw_latest)\n",
    ")\n",
    "\n",
    "# We are indicating that vehicle starts from depot\n",
    "# Depot is at index 98 in the orders_details dataframe\n",
    "# so we use 'n_orders' as index for specifying vehicle start & end location\n",
    "\n",
    "data_model.set_vehicle_locations(\n",
    "    cudf.Series([n_orders]*n_vehicles), cudf.Series([n_orders]*n_vehicles)\n",
    ")\n",
    "# Set minimum number of vehciles that need to be used to compute results\n",
    "data_model.set_min_vehicles(5)"
   ]
  },
  {
   "cell_type": "markdown",
   "id": "1594d856",
   "metadata": {},
   "source": [
    "<br>\n",
    "\n",
    "## Create Solver Instance\n",
    "---\n",
    "The solver instance will take the data-model and return an optimized route plan. Additional configuration options are available to further customize solver behavior including: \n",
    "- The number of parallel agents (climbers) examining the solution search space\n",
    "- The maximum time allotted to find a solution\n",
    "- The minimum number of vehicles to be used\n",
    "- and more"
   ]
  },
  {
   "cell_type": "code",
   "execution_count": null,
   "id": "0d72a76e",
   "metadata": {},
   "outputs": [],
   "source": [
    "# DO NOT CHANGE THIS CELL\n",
    "solver_settings = routing.SolverSettings()\n",
    "# set number of climbers that will try to search for an optimal path parallely\n",
    "solver_settings.set_number_of_climbers(4096)\n",
    "# solver will run for given time limit and it will fail if needs more time\n",
    "solver_settings.set_time_limit(5)\n",
    "\n",
    "solver_settings.set_drop_infeasible_orders(True)\n",
    "\n",
    "routing_solution = routing.Solve(data_model, solver_settings)\n",
    "if routing_solution.get_status() == 0:\n",
    "    print(\"Solution Found\")\n",
    "else:\n",
    "    print(\"No Solution Found\")"
   ]
  },
  {
   "cell_type": "markdown",
   "id": "8b619f68",
   "metadata": {},
   "source": [
    "**Infeasible Solve** means, there is not a solution that can assign all available orders to vehicles available. There are two possible steps you can consider now. \n",
    "\n",
    "1. Relax time constraint by setting the scope to SOFT_TW will expand the search to unfeasible regions. Currently the SOFT_TW scope only relaxes the latest time. The solution can still be unfeasible due to demand and slack time constraints. [More details](https://docs.nvidia.com/cuopt/py_api.html#cuopt.routing.SolverSettings.set_solution_scope)\n",
    "\n",
    "2. Second approach is to use `solver_settings.set_drop_infeasible_orders(True)` and let the solver find a solution.\n"
   ]
  },
  {
   "cell_type": "code",
   "execution_count": null,
   "id": "67a58ef6",
   "metadata": {},
   "outputs": [],
   "source": [
    "# DO NOT CHANGE THIS CELL\n",
    "\n",
    "routing_solution = routing.Solve(data_model, solver_settings)\n",
    "if routing_solution.get_status() == 0:\n",
    "    print(\"Solution Found\")\n",
    "    output = parse_output_summary(routing_solution, n_orders+n_depot, n_vehicles, orders_details, vehicle_df, location_coordinates, distance_matrix, time_matrix, n_depot)\n",
    "else:\n",
    "    print(\"No Solution Found\")\n"
   ]
  },
  {
   "cell_type": "code",
   "execution_count": null,
   "id": "23a4ccb4",
   "metadata": {},
   "outputs": [],
   "source": [
    "routes_df = routing_solution.get_route().to_pandas()\n",
    "routes_df[routes_df['type']=='Depot']\n"
   ]
  },
  {
   "cell_type": "code",
   "execution_count": null,
   "id": "0f7656fb",
   "metadata": {},
   "outputs": [],
   "source": [
    "plot_map_df = prepare_data_for_maps(depot_df, output)\n",
    "all_routes = get_all_routes(plot_map_df)"
   ]
  },
  {
   "cell_type": "code",
   "execution_count": null,
   "id": "0c0ced49",
   "metadata": {},
   "outputs": [],
   "source": [
    "# DO NOT CHANGE THIS CELL\n",
    "\n",
    "from IPython.display import display, Markdown, clear_output\n",
    "import ipywidgets as widgets\n",
    "from ipywidgets import interact\n",
    "\n",
    "w = widgets.Dropdown(\n",
    "    options=list(vehicle_df.vehicle_id),\n",
    "    value=list(vehicle_df.vehicle_id)[0],\n",
    "    description='Vehicle ID:',\n",
    ")\n",
    "\n",
    "def on_change(value):\n",
    "    if value in output.keys():\n",
    "        idx = list(plot_map_df[plot_map_df['vehicle_id'] == value].index)\n",
    "        filtered_dict = {k: v for k, v in all_routes.items() if k in idx}\n",
    "        display(get_map_by_vehicle(filtered_dict))\n",
    "        \n",
    "    else:\n",
    "        print(\"This Vehicle is not assigned to any order!!\")\n",
    "\n",
    "interact(on_change, value=w)"
   ]
  },
  {
   "cell_type": "code",
   "execution_count": null,
   "id": "ce4f3860",
   "metadata": {},
   "outputs": [],
   "source": []
  }
 ],
 "metadata": {
  "kernelspec": {
   "display_name": "Python 3 (ipykernel)",
   "language": "python",
   "name": "python3"
  },
  "language_info": {
   "codemirror_mode": {
    "name": "ipython",
    "version": 3
   },
   "file_extension": ".py",
   "mimetype": "text/x-python",
   "name": "python",
   "nbconvert_exporter": "python",
   "pygments_lexer": "ipython3",
   "version": "3.9.15"
  }
 },
 "nbformat": 4,
 "nbformat_minor": 5
}
